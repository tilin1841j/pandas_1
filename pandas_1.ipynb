{
 "cells": [
  {
   "cell_type": "code",
   "execution_count": 2,
   "id": "197e77d4",
   "metadata": {},
   "outputs": [
    {
     "name": "stdout",
     "output_type": "stream",
     "text": [
      "Requirement already satisfied: pandas in c:\\users\\estudiantes\\anaconda3\\lib\\site-packages (2.0.3)\n",
      "Requirement already satisfied: python-dateutil>=2.8.2 in c:\\users\\estudiantes\\anaconda3\\lib\\site-packages (from pandas) (2.8.2)\n",
      "Requirement already satisfied: pytz>=2020.1 in c:\\users\\estudiantes\\anaconda3\\lib\\site-packages (from pandas) (2023.3.post1)\n",
      "Requirement already satisfied: tzdata>=2022.1 in c:\\users\\estudiantes\\anaconda3\\lib\\site-packages (from pandas) (2023.3)\n",
      "Requirement already satisfied: numpy>=1.21.0 in c:\\users\\estudiantes\\anaconda3\\lib\\site-packages (from pandas) (1.24.3)\n",
      "Requirement already satisfied: six>=1.5 in c:\\users\\estudiantes\\anaconda3\\lib\\site-packages (from python-dateutil>=2.8.2->pandas) (1.16.0)\n"
     ]
    }
   ],
   "source": [
    "!pip install pandas"
   ]
  },
  {
   "cell_type": "code",
   "execution_count": 3,
   "id": "df275012",
   "metadata": {},
   "outputs": [],
   "source": [
    "import pandas as pd "
   ]
  },
  {
   "cell_type": "markdown",
   "id": "2e02a342",
   "metadata": {},
   "source": [
    "# crear una serie\n",
    "\n",
    "Arreglo unidimensional de datos "
   ]
  },
  {
   "cell_type": "code",
   "execution_count": 4,
   "id": "9134bd4f",
   "metadata": {},
   "outputs": [
    {
     "data": {
      "text/plain": [
       "0    34\n",
       "1    56\n",
       "2    78\n",
       "3    23\n",
       "4    34\n",
       "dtype: int64"
      ]
     },
     "execution_count": 4,
     "metadata": {},
     "output_type": "execute_result"
    }
   ],
   "source": [
    "miSerie= pd.Series([34,56,78,23,34])\n",
    "miSerie "
   ]
  },
  {
   "cell_type": "markdown",
   "id": "6ff7e094",
   "metadata": {},
   "source": [
    "# Diccionarios en python\n",
    "\n",
    "    Estructura que guarda datos en forma de objetos en llave - valor"
   ]
  },
  {
   "cell_type": "code",
   "execution_count": 11,
   "id": "da584812",
   "metadata": {},
   "outputs": [
    {
     "data": {
      "text/plain": [
       "{'nombre': 'casa1',\n",
       " 'area': '120',\n",
       " 'baños': 3,\n",
       " 'propietarios': ['paulo', 'diana', 'sanio'],\n",
       " 'barrio': {'nombre': 'gran britalia', 'localidad': 'bosa'}}"
      ]
     },
     "execution_count": 11,
     "metadata": {},
     "output_type": "execute_result"
    }
   ],
   "source": [
    "miDiccionario={\n",
    "    \"nombre\": \"casa1\",\n",
    "    \"area\": \"120\",\n",
    "    \"baños\": 3,\n",
    "    \"propietarios\": [\n",
    "        \"paulo\", \"diana\", \"sanio\"\n",
    "        \n",
    "    ], \"barrio\":{\n",
    "        \"nombre\": \"gran britalia\",\n",
    "        \"localidad\": \"bosa\"\n",
    "        \n",
    "    }\n",
    "       \n",
    "}\n",
    "miDiccionario\n"
   ]
  },
  {
   "cell_type": "markdown",
   "id": "c75966c0",
   "metadata": {},
   "source": [
    "# Data frame\n",
    "\n",
    "Estrutura de datos en formato tabla.\n",
    "\n",
    "La forma \"simple\" de crear un dataframe es a partir de un diccionario, otra forma puede ser desde hojas de calculo, desde archivos JSON o desde archivos CSV ( valores separados por coma) "
   ]
  },
  {
   "cell_type": "code",
   "execution_count": 13,
   "id": "6b0627ba",
   "metadata": {},
   "outputs": [
    {
     "ename": "SyntaxError",
     "evalue": "invalid syntax (432682693.py, line 1)",
     "output_type": "error",
     "traceback": [
      "\u001b[1;36m  Cell \u001b[1;32mIn[13], line 1\u001b[1;36m\u001b[0m\n\u001b[1;33m    miDataframe= pd.Dataframe(('SI':[10,15],'NO':[50,68]))\u001b[0m\n\u001b[1;37m                                   ^\u001b[0m\n\u001b[1;31mSyntaxError\u001b[0m\u001b[1;31m:\u001b[0m invalid syntax\n"
     ]
    }
   ],
   "source": [
    "miDataframe= pd.Dataframe(('SI':[10,15],'NO':[50,68]))\n",
    "miDataframe "
   ]
  },
  {
   "cell_type": "code",
   "execution_count": null,
   "id": "1e5973ea",
   "metadata": {},
   "outputs": [],
   "source": []
  }
 ],
 "metadata": {
  "kernelspec": {
   "display_name": "Python 3 (ipykernel)",
   "language": "python",
   "name": "python3"
  },
  "language_info": {
   "codemirror_mode": {
    "name": "ipython",
    "version": 3
   },
   "file_extension": ".py",
   "mimetype": "text/x-python",
   "name": "python",
   "nbconvert_exporter": "python",
   "pygments_lexer": "ipython3",
   "version": "3.11.5"
  }
 },
 "nbformat": 4,
 "nbformat_minor": 5
}
